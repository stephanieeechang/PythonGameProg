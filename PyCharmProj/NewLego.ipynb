{
 "cells": [
  {
   "cell_type": "markdown",
   "metadata": {},
   "source": [
    "# The new lego program"
   ]
  },
  {
   "cell_type": "code",
   "execution_count": 5,
   "metadata": {
    "collapsed": false,
    "scrolled": true
   },
   "outputs": [
    {
     "name": "stdout",
     "output_type": "stream",
     "text": [
      "Bricks: 457\n",
      "Beams: 443\n"
     ]
    },
    {
     "data": {
      "image/png": "[encoded data removed]",
      "text/plain": [
       "<matplotlib.figure.Figure at 0x10f50c278>"
      ]
     },
     "metadata": {},
     "output_type": "display_data"
    }
   ],
   "source": [
    "# library for scientific computations\n",
    "import numpy as np\n",
    "#library for graphs\n",
    "import matplotlib.pyplot as plt\n",
    "%matplotlib inline\n",
    "import math\n",
    "\n",
    "\n",
    "def distance(x1, x2, y1, y2):\n",
    "    #calculate the distance between two points\n",
    "    dis = math.sqrt((x1-x2)**2 + (y1-y2)**2)\n",
    "    return dis\n",
    "\n",
    "\n",
    "def plot():\n",
    "    # print each pair of points in a scatter plot\n",
    "    for x, y in legos:\n",
    "        if distance(x, 0, y, 0) < 0.8:\n",
    "            plt.scatter(x,y,color='gray')\n",
    "        else:\n",
    "            plt.scatter(x,y,color='pink')\n",
    "\n",
    "            \n",
    "def count():\n",
    "    numBeams = 0\n",
    "    numBricks = 0\n",
    "    for x, y in legos:\n",
    "        if distance(x, 0, y, 0) < 0.8:\n",
    "            numBeams += 1\n",
    "        else:\n",
    "            numBricks += 1\n",
    "    return numBeams, numBricks\n",
    "        \n",
    "# read Legos2.txt file\n",
    "legos = np.loadtxt('Legos2.txt',delimiter=',')\n",
    "\n",
    "# show the dimensions of legos (# of rows, # columns)\n",
    "np.shape(legos)\n",
    "\n",
    "coorList = [(x, y) for x, y in legos]\n",
    "beams, bricks = count()\n",
    "print('Bricks: ' + str(bricks))\n",
    "print('Beams: ' + str(beams))\n",
    "plot()"
   ]
  },
  {
   "cell_type": "code",
   "execution_count": 2,
   "metadata": {
    "collapsed": false
   },
   "outputs": [],
   "source": []
  },
  {
   "cell_type": "code",
   "execution_count": 3,
   "metadata": {
    "collapsed": true
   },
   "outputs": [],
   "source": []
  },
  {
   "cell_type": "code",
   "execution_count": 4,
   "metadata": {
    "collapsed": true
   },
   "outputs": [],
   "source": []
  },
  {
   "cell_type": "code",
   "execution_count": 5,
   "metadata": {
    "collapsed": true
   },
   "outputs": [],
   "source": []
  },
  {
   "cell_type": "code",
   "execution_count": 6,
   "metadata": {
    "collapsed": true
   },
   "outputs": [],
   "source": []
  },
  {
   "cell_type": "code",
   "execution_count": null,
   "metadata": {
    "collapsed": false
   },
   "outputs": [],
   "source": []
  },
  {
   "cell_type": "code",
   "execution_count": null,
   "metadata": {
    "collapsed": false
   },
   "outputs": [],
   "source": []
  },
  {
   "cell_type": "code",
   "execution_count": null,
   "metadata": {
    "collapsed": true
   },
   "outputs": [],
   "source": []
  }
 ],
 "metadata": {
  "anaconda-cloud": {},
  "kernelspec": {
   "display_name": "Python [Root]",
   "language": "python",
   "name": "Python [Root]"
  },
  "language_info": {
   "codemirror_mode": {
    "name": "ipython",
    "version": 3
   },
   "file_extension": ".py",
   "mimetype": "text/x-python",
   "name": "python",
   "nbconvert_exporter": "python",
   "pygments_lexer": "ipython3",
   "version": "3.5.2"
  }
 },
 "nbformat": 4,
 "nbformat_minor": 0
}
